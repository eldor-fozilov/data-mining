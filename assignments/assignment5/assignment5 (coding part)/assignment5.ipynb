{
 "cells": [
  {
   "cell_type": "markdown",
   "metadata": {},
   "source": [
    "### Import Packages\n",
    "\n",
    "- It is not allowed for you to use packages other than the specified packages below"
   ]
  },
  {
   "cell_type": "code",
   "execution_count": 1,
   "metadata": {},
   "outputs": [],
   "source": [
    "import pandas as pd\n",
    "import numpy as np\n",
    "import matplotlib.pyplot as plt\n",
    "from sklearn.preprocessing import StandardScaler\n",
    "from sklearn.model_selection import train_test_split\n",
    "from sklearn.svm import SVC\n",
    "from IPython.display import Image"
   ]
  },
  {
   "cell_type": "markdown",
   "metadata": {},
   "source": [
    "## Task 1. Support Vector Machine (SVM)"
   ]
  },
  {
   "cell_type": "markdown",
   "metadata": {},
   "source": [
    "#### 1. Load Dataset [1 point]"
   ]
  },
  {
   "cell_type": "markdown",
   "metadata": {},
   "source": [
    "- Load the csv file,'X_dataset.csv' as `X`\n",
    "- Load the csv file, 'y_dataset.csv' as `y`"
   ]
  },
  {
   "cell_type": "code",
   "execution_count": 2,
   "metadata": {},
   "outputs": [],
   "source": [
    "X = pd.read_csv(\"X_dataset.csv\")\n",
    "y = pd.read_csv('y_dataset.csv')"
   ]
  },
  {
   "cell_type": "markdown",
   "metadata": {},
   "source": [
    "#### 2. Split Dataset into the train & testset [1 point]\n",
    "** When you use scikit-learn method to split the train & test set : \n",
    "- the `random_state` value has to be zero.\n",
    "- the ratio of train set and test set is as follows : 75% train set / 25% test set\n",
    "- Assign the variable names as follows : `X_tn`, `X_te`, `y_tn`, `y_te`"
   ]
  },
  {
   "cell_type": "code",
   "execution_count": 3,
   "metadata": {},
   "outputs": [],
   "source": [
    "X_tn, X_te, y_tn, y_te = train_test_split(X, y, train_size = 0.75, test_size = 0.25, random_state = 0)"
   ]
  },
  {
   "cell_type": "markdown",
   "metadata": {},
   "source": [
    "#### 3. Standardize the dataset by \"StandardScaler\" method of scikit-learn [1 point]\n",
    "- Use the method as the default state\n",
    "- Fit the `StandardScaler` on your training data only, then standardize both training and test sets using that scaler. The reason we fit a scaler on the training set is to avoid possible information leakage from the test dataset. Test dataset should always remain \"Unseen\" until the testing phase. Thus, we should always scale using the training set."
   ]
  },
  {
   "cell_type": "code",
   "execution_count": 4,
   "metadata": {},
   "outputs": [],
   "source": [
    "scaler = StandardScaler()\n",
    "X_tn_norm = scaler.fit_transform(X_tn)\n",
    "X_te_norm = scaler.transform(X_te)"
   ]
  },
  {
   "cell_type": "markdown",
   "metadata": {},
   "source": [
    "#### 4. Load and train a support vector machine classifier (SVC) by scikit-learn. [10 points]\n",
    "- Use only two parameters of `SVC` : `kernel`, and `random_state`.\n",
    "- Assign `model1` to `SVC` with `kernel` set to `linear`, and set `random_state` as 0.\n",
    "- Assign `model2` to `SVC` with `kernel` set to `rbf`, and set `random_state` as 0."
   ]
  },
  {
   "cell_type": "code",
   "execution_count": 5,
   "metadata": {},
   "outputs": [],
   "source": [
    "y_tn = np.ravel(y_tn)\n",
    "y_te = np.ravel(y_te)\n",
    "model1 = SVC(kernel = 'linear', random_state = 0)\n",
    "clf1 = model1.fit(X_tn_norm, y_tn)\n",
    "model2 = SVC(kernel = 'rbf', random_state = 0)\n",
    "clf2 = model2.fit(X_tn_norm, y_tn)"
   ]
  },
  {
   "cell_type": "markdown",
   "metadata": {},
   "source": [
    "#### 5. Predict and evaluate the two models on your test set [3 points]"
   ]
  },
  {
   "cell_type": "markdown",
   "metadata": {},
   "source": [
    "- Predict class labels of the test set using the two trained models, including `model1` and `model2`.\n",
    "- For each of the two models, assign `pred1` and `pred2` to each predicted result accordingly, and print `pred1` and `pred2`."
   ]
  },
  {
   "cell_type": "code",
   "execution_count": 6,
   "metadata": {},
   "outputs": [
    {
     "name": "stdout",
     "output_type": "stream",
     "text": [
      "[1. 0. 0. 1. 0. 0. 0. 0. 1. 1. 0. 1. 0. 0. 0. 1. 0. 1. 0. 1. 0. 1. 1. 1.\n",
      " 1.]\n",
      "[1. 0. 0. 1. 0. 0. 0. 0. 1. 1. 0. 1. 0. 0. 0. 1. 0. 1. 0. 1. 0. 1. 1. 1.\n",
      " 0.]\n"
     ]
    }
   ],
   "source": [
    "pred1 = model1.predict(X_te_norm)\n",
    "pred2 = model2.predict(X_te_norm)\n",
    "print(pred1)\n",
    "print(pred2)"
   ]
  },
  {
   "cell_type": "markdown",
   "metadata": {},
   "source": [
    "### 6. Evaluate the prediction of your models. "
   ]
  },
  {
   "cell_type": "markdown",
   "metadata": {},
   "source": [
    "- Evaluate the trained model using accuracy metric on the test set.\n",
    "(Evaluate how well the predicted label of the test set matches the actual correct answer value.)\n",
    "- Print the accuracy score value"
   ]
  },
  {
   "cell_type": "markdown",
   "metadata": {},
   "source": [
    "#### 6.1. Fill in the blank of the accuracy function to calculate accuracy score. [2 points]"
   ]
  },
  {
   "cell_type": "code",
   "execution_count": 7,
   "metadata": {},
   "outputs": [],
   "source": [
    "def accuracy(y_true, y_pred):\n",
    "    \n",
    "    \"\"\"\n",
    "    Calculate the accuracy rate from the predicted target value and the actual target value.\n",
    "    \n",
    "    Inputs\n",
    "    ------\n",
    "    y_true: actual target value\n",
    "    y_pred: predicted target value\n",
    "\n",
    "    Outputs\n",
    "    -------\n",
    "    calculataed accuracy rate\n",
    "\n",
    "    \"\"\"\n",
    "    # TODO: Compute the accuracy rate\n",
    "    \n",
    "    pred_correct = sum(y_true == y_pred)\n",
    "    total_test_samples = len(y_true)\n",
    "    \n",
    "    accuracy = pred_correct / total_test_samples\n",
    "\n",
    "    return accuracy"
   ]
  },
  {
   "cell_type": "markdown",
   "metadata": {},
   "source": [
    "#### 6.2. Print each accuracy score for `model1` and `model2`. [2 points]\n",
    "- Assign an `accuracy1` to the accuracy score for `model1`.\n",
    "- Assign an `accuracy2` to the accuracy score for `model2`.\n",
    "- Print both `accuracy1` and `accuracy2`."
   ]
  },
  {
   "cell_type": "code",
   "execution_count": 8,
   "metadata": {},
   "outputs": [
    {
     "name": "stdout",
     "output_type": "stream",
     "text": [
      "Accuracy 1: 0.8\n",
      "Accuracy 2: 0.84\n"
     ]
    }
   ],
   "source": [
    "# print the accuracy score on your test set\n",
    "accuracy1 = accuracy(y_te, pred1)\n",
    "accuracy2 = accuracy(y_te, pred2)\n",
    "print(f\"Accuracy 1: {accuracy1}\")\n",
    "print(f\"Accuracy 2: {accuracy2}\")"
   ]
  },
  {
   "cell_type": "markdown",
   "metadata": {},
   "source": [
    "#### 7. Plot graphs \n",
    "[overall instruction]\n",
    "- Plot test data points using the `matplotlib.pyplot` library\n",
    "- The meaning of dependent variable is such as: \n",
    "-    1 : positive (breast cancer)\n",
    "-    0 : negative (breast cancer)\n",
    "- For label 1 and label 0, plot those labels by assigning different colors or symbols.\n",
    "- Draw the *decision boundary* per each model."
   ]
  },
  {
   "cell_type": "markdown",
   "metadata": {},
   "source": [
    "#### 7.1. Plot test data points and draw a decision boundary of `model1`. [4 points]"
   ]
  },
  {
   "cell_type": "code",
   "execution_count": 9,
   "metadata": {},
   "outputs": [
    {
     "data": {
      "image/png": "[encoded data removed]",
      "text/plain": [
       "<Figure size 720x576 with 1 Axes>"
      ]
     },
     "metadata": {
      "needs_background": "light"
     },
     "output_type": "display_data"
    }
   ],
   "source": [
    "plt.figure(figsize = (10,8))\n",
    "\n",
    "def make_meshgrid(x, y, h = .02):\n",
    "    x_min, x_max = x.min() - 1, x.max() + 1\n",
    "    y_min, y_max = y.min() - 1, y.max() + 1\n",
    "    xx, yy = np.meshgrid(np.arange(x_min, x_max, h), np.arange(y_min, y_max, h))\n",
    "    return xx, yy\n",
    "\n",
    "def plot_contours(ax, clf, xx, yy, **params):\n",
    "    Z = clf.predict(np.c_[xx.ravel(), yy.ravel()])\n",
    "    Z = Z.reshape(xx.shape)\n",
    "    result = ax.contourf(xx, yy, Z, **params)\n",
    "    return result\n",
    "\n",
    "X0, X1 = X_te_norm[:, 0], X_te_norm[:, 1]\n",
    "xx, yy = make_meshgrid(X0, X1)\n",
    "\n",
    "\n",
    "plot_contours(plt.gca(), clf1, xx, yy, cmap=plt.cm.coolwarm, alpha=0.8)\n",
    "scatter = plt.scatter(X0, X1, c = y_te, cmap = plt.cm.gist_yarg, s = 100)\n",
    "plt.legend(handles = scatter.legend_elements()[0], labels = ['negative','positive'], fontsize = 15)\n",
    "plt.xlabel('min radiaus (normalized)', fontsize = 15)\n",
    "plt.ylabel('min texture (normalized)', fontsize = 15)\n",
    "plt.xticks(fontsize = 14)\n",
    "plt.yticks(fontsize = 14)\n",
    "\n",
    "for spine in plt.gca().spines.values():\n",
    "    spine.set_visible(False)\n",
    "\n",
    "plt.show()"
   ]
  },
  {
   "cell_type": "markdown",
   "metadata": {},
   "source": [
    "#### 7.2. Plot test data points and draw a decision boundary of `model2`. [4 points]"
   ]
  },
  {
   "cell_type": "code",
   "execution_count": 10,
   "metadata": {},
   "outputs": [
    {
     "data": {
      "image/png": "[encoded data removed]",
      "text/plain": [
       "<Figure size 720x576 with 1 Axes>"
      ]
     },
     "metadata": {
      "needs_background": "light"
     },
     "output_type": "display_data"
    }
   ],
   "source": [
    "plt.figure(figsize = (10,8))\n",
    "\n",
    "\n",
    "plot_contours(plt.gca(), clf2, xx, yy, cmap=plt.cm.coolwarm, alpha=0.8)\n",
    "scatter = plt.scatter(X0, X1, c = y_te, cmap = plt.cm.gist_yarg, s = 100)\n",
    "plt.legend(handles = scatter.legend_elements()[0], labels = ['negative','positive'], fontsize = 15)\n",
    "plt.xlabel('min radiaus (normalized)', fontsize = 15)\n",
    "plt.ylabel('min texture (normalized)', fontsize = 15)\n",
    "plt.xticks(fontsize = 15)\n",
    "plt.yticks(fontsize = 15)\n",
    "\n",
    "\n",
    "for spine in plt.gca().spines.values():\n",
    "    spine.set_visible(False)\n",
    "\n",
    "plt.show()"
   ]
  },
  {
   "cell_type": "markdown",
   "metadata": {},
   "source": [
    "#### 7.3. Describe the difference between two plots and explain why the accuracy score of a particular model is better than the other based on the two plots. [3 points]"
   ]
  },
  {
   "cell_type": "markdown",
   "metadata": {},
   "source": [
    "We can see that the performance of model1 (linear SVM) and model2 (non-linear SVM) are not too different from each other. This is because the test data is approximately linearly separable, which is evident from the above graphs. The reason why the accuracy score of model2 was higher is that it could correctly classify one more sample test record compared to model1. This also can be seen from the above graph for model2."
   ]
  },
  {
   "cell_type": "code",
   "execution_count": null,
   "metadata": {},
   "outputs": [],
   "source": []
  }
 ],
 "metadata": {
  "kernelspec": {
   "display_name": "Python 3",
   "language": "python",
   "name": "python3"
  },
  "language_info": {
   "codemirror_mode": {
    "name": "ipython",
    "version": 3
   },
   "file_extension": ".py",
   "mimetype": "text/x-python",
   "name": "python",
   "nbconvert_exporter": "python",
   "pygments_lexer": "ipython3",
   "version": "3.8.8"
  }
 },
 "nbformat": 4,
 "nbformat_minor": 4
}
