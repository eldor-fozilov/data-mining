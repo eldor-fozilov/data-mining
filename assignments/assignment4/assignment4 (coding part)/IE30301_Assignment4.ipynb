{
 "cells": [
  {
   "cell_type": "markdown",
   "metadata": {},
   "source": [
    "# IE30301 DataMining  Programming HW4"
   ]
  },
  {
   "cell_type": "markdown",
   "metadata": {},
   "source": [
    "### Import Packages\n",
    "- It is not allowed for you to use packages other than specific packages below\n",
    "- It is not nessasary to use all the packages below "
   ]
  },
  {
   "cell_type": "code",
   "execution_count": 1,
   "metadata": {},
   "outputs": [],
   "source": [
    "import numpy as np\n",
    "import pandas as pd \n",
    "import matplotlib.pyplot as plt\n",
    "from sklearn.ensemble import RandomForestClassifier\n",
    "from sklearn.model_selection import train_test_split\n",
    "from sklearn.preprocessing import StandardScaler\n",
    "\n",
    "import matplotlib.pyplot as plt\n",
    "import seaborn as sns"
   ]
  },
  {
   "cell_type": "code",
   "execution_count": 2,
   "metadata": {},
   "outputs": [],
   "source": [
    "import warnings\n",
    "warnings.filterwarnings(action='ignore')"
   ]
  },
  {
   "cell_type": "markdown",
   "metadata": {},
   "source": [
    "## Task 1. Random Forest Training and evaluation [20 points]"
   ]
  },
  {
   "cell_type": "markdown",
   "metadata": {},
   "source": [
    "#### 1.1 Load Dataset [1 points]\n",
    "- Load the csv file,'breast_cancer.csv'\n",
    "- Assign `X` to the independent variable dataset\n",
    "- Assign `y` to the target variable dataset"
   ]
  },
  {
   "cell_type": "code",
   "execution_count": 3,
   "metadata": {},
   "outputs": [],
   "source": [
    "df = pd.read_csv(\"breast_cancer.csv\")\n",
    "X = df.drop('target', axis = 1)\n",
    "y = df['target']"
   ]
  },
  {
   "cell_type": "markdown",
   "metadata": {},
   "source": [
    "#### 1.2 Split Dataset into the train & test set [1 points]\n",
    "** When you use scikit-learn method to split the train & test set : \n",
    "- The `random_state` value has to be zero\n",
    "- The ratio of train set and test set is as follows : 70% train set / 30% test set\n",
    "- Assign the variable names as follow : `X_train`, `X_test`, `y_train`, `y_test`"
   ]
  },
  {
   "cell_type": "code",
   "execution_count": 4,
   "metadata": {},
   "outputs": [],
   "source": [
    "X_train, X_test, y_train, y_test = train_test_split(X, y, train_size = 0.7, test_size = 0.3, random_state = 0)"
   ]
  },
  {
   "cell_type": "markdown",
   "metadata": {},
   "source": [
    "#### 1.3 Preprocess the data (use standard scaling) [2 points]\n",
    "- Use the method as the default state\n"
   ]
  },
  {
   "cell_type": "code",
   "execution_count": 5,
   "metadata": {},
   "outputs": [],
   "source": [
    "scaler = StandardScaler()\n",
    "X_train_norm = scaler.fit_transform(X_train)\n",
    "X_test_norm = scaler.transform(X_test)"
   ]
  },
  {
   "cell_type": "markdown",
   "metadata": {},
   "source": [
    "#### 1.4 Load and train a random forest model by scikit-learn [4 points]\n",
    "- The `random_state` value has to be zero\n",
    "- Train the model as the default state\n",
    "- You should complete the training on both the unscaled original data and the scaled data (Use two different model names: model_origin, model_scaled)"
   ]
  },
  {
   "cell_type": "code",
   "execution_count": 6,
   "metadata": {},
   "outputs": [
    {
     "data": {
      "text/plain": [
       "RandomForestClassifier(random_state=0)"
      ]
     },
     "execution_count": 6,
     "metadata": {},
     "output_type": "execute_result"
    }
   ],
   "source": [
    "# First model trained with original datasets (without any scaling)\n",
    "model_origin = RandomForestClassifier(random_state = 0)\n",
    "model_origin.fit(X_train,y_train)"
   ]
  },
  {
   "cell_type": "code",
   "execution_count": 7,
   "metadata": {},
   "outputs": [
    {
     "data": {
      "text/plain": [
       "RandomForestClassifier(random_state=0)"
      ]
     },
     "execution_count": 7,
     "metadata": {},
     "output_type": "execute_result"
    }
   ],
   "source": [
    "# Second model trained with scaled datasets (with standard scaling) \n",
    "model_scaled = RandomForestClassifier(random_state = 0)\n",
    "model_scaled.fit(X_train_norm,y_train)"
   ]
  },
  {
   "cell_type": "markdown",
   "metadata": {},
   "source": [
    "#### 1.5 Predict and evaluate the model [12 points]\n",
    "- Make predictions and evaluations for the two models(model_origin, model_scaled) that have been trained in 1.4, respectively.\n",
    "- Print the predicted labels of test set and assign it to two different variables (y_pred_origin, y_pred_scaled)\n",
    "- Complete the four evaluation functions below, and evaluate the model performance through them"
   ]
  },
  {
   "cell_type": "code",
   "execution_count": 8,
   "metadata": {},
   "outputs": [],
   "source": [
    "def cal_confusion(y_true, y_pred):\n",
    "    \n",
    "    \"\"\"\n",
    "    Calculate the confusion matrix from the predicted target value and the actual target value.\n",
    "    \n",
    "    Inputs\n",
    "    ------\n",
    "    y_true: actual target value\n",
    "    y_pred: predicted target value\n",
    "\n",
    "    Outputs\n",
    "    -------\n",
    "    confusion matrix components: TP, FP, TN, FN\n",
    "\n",
    "    \"\"\"\n",
    "    # TODO: Compute the compusion matrix\n",
    "    \n",
    "    sample_num = len(y_true)\n",
    "    TP = TN = FP = FN = 0\n",
    "    for i in range(0, sample_num):\n",
    "        if y_pred[i] == 0 and y_true[i] == 0:\n",
    "            TN += 1\n",
    "        elif y_pred[i] == 0 and y_true[i] == 1:\n",
    "            FN += 1\n",
    "        elif y_pred[i] == 1 and y_true[i] == 0:\n",
    "            FP += 1\n",
    "        else:\n",
    "            TP += 1\n",
    "\n",
    "    return TP, FP, TN, FN"
   ]
  },
  {
   "cell_type": "code",
   "execution_count": 9,
   "metadata": {},
   "outputs": [],
   "source": [
    "def cal_accuracy(y_true, y_pred):\n",
    "    \n",
    "    \"\"\"\n",
    "    Calculate the accuracy rate from the predicted target value and the actual target value.\n",
    "    \n",
    "    Inputs\n",
    "    ------\n",
    "    y_true: actual target value\n",
    "    y_pred: predicted target value\n",
    "\n",
    "    Outputs\n",
    "    -------\n",
    "    calculataed accuracy rate\n",
    "\n",
    "    \"\"\"\n",
    "    # TODO: Compute the accuracy rate\n",
    "    \n",
    "    TP, FP, TN, FN = cal_confusion(y_true, y_pred)\n",
    "    accuracy = (TP + TN) / (TP + TN + FP + FN)\n",
    "    \n",
    "    return accuracy"
   ]
  },
  {
   "cell_type": "code",
   "execution_count": 10,
   "metadata": {},
   "outputs": [],
   "source": [
    "def cal_sensitivity(TP,FP,TN,FN):\n",
    "    \n",
    "    \"\"\"\n",
    "    Calculate the sensitivity using the TP, FP, TN, and FN information obtained through the confusion matrix.    \n",
    "    \n",
    "    Inputs\n",
    "    ------\n",
    "    TP,FP,TN,FN\n",
    "\n",
    "    Outputs\n",
    "    -------\n",
    "    calculated sensitivity rate\n",
    "\n",
    "    \"\"\"\n",
    "    # TODO: Compute the sensitivity rate\n",
    "    \n",
    "    sensitivity = TP / (TP + FN)\n",
    "    \n",
    "    return sensitivity"
   ]
  },
  {
   "cell_type": "code",
   "execution_count": 11,
   "metadata": {},
   "outputs": [],
   "source": [
    "def cal_specificity(TP,FP,TN,FN):\n",
    "    \n",
    "    \"\"\"\n",
    "    Calculate the sensitivity using the TP, FP, TN, and FN information obtained through the confusion matrix.    \n",
    "    \n",
    "    Inputs\n",
    "    ------\n",
    "    TP,FP,TN,FN\n",
    "\n",
    "    Outputs\n",
    "    -------\n",
    "    calculated specificity rate\n",
    "\n",
    "    \"\"\"\n",
    "    # TODO: Compute the specificity rate\n",
    "    \n",
    "    specificity = TN / (TN + FP)\n",
    "    \n",
    "    return specificity"
   ]
  },
  {
   "cell_type": "code",
   "execution_count": 12,
   "metadata": {},
   "outputs": [],
   "source": [
    "# y_pred_origin, y_pred_scaled\n",
    "y_pred_origin = model_origin.predict(X_test)\n",
    "y_pred_scaled = model_scaled.predict(X_test_norm)"
   ]
  },
  {
   "cell_type": "code",
   "execution_count": 13,
   "metadata": {},
   "outputs": [],
   "source": [
    "# Get results of 'cal_confusion'\n",
    "TP_origin, FP_origin, TN_origin, FN_origin = cal_confusion(np.array(y_test), y_pred_origin)\n",
    "TP_scaled, FP_scaled, TN_scaled, FN_scaled = cal_confusion(np.array(y_test), y_pred_scaled)"
   ]
  },
  {
   "cell_type": "code",
   "execution_count": 14,
   "metadata": {},
   "outputs": [
    {
     "name": "stdout",
     "output_type": "stream",
     "text": [
      "TP, FP, TN , FN when original dataset was used... : 104, 3, 60, 4\n",
      "TP, FP, TN , FN when scaling dataset was used... : 104, 3, 60, 4\n"
     ]
    }
   ],
   "source": [
    "# Should fill in the {}\n",
    "print(f'TP, FP, TN , FN when original dataset was used... : {TP_origin}, {FP_origin}, {TN_origin}, {FN_origin}')\n",
    "print(f'TP, FP, TN , FN when scaling dataset was used... : {TP_scaled}, {FP_scaled}, {TN_scaled}, {FN_scaled}')"
   ]
  },
  {
   "cell_type": "code",
   "execution_count": 15,
   "metadata": {},
   "outputs": [],
   "source": [
    "# Get results of 'cal_accuracy'\n",
    "result_origin = cal_accuracy(np.array(y_test), y_pred_origin)\n",
    "result_scaled = cal_accuracy(np.array(y_test), y_pred_scaled)"
   ]
  },
  {
   "cell_type": "code",
   "execution_count": 16,
   "metadata": {},
   "outputs": [
    {
     "name": "stdout",
     "output_type": "stream",
     "text": [
      "Model accuracy when original dataset was used... : 0.9590643274853801\n",
      "Model accuracy when scaling  dataset was used... : 0.9590643274853801\n"
     ]
    }
   ],
   "source": [
    "# Should fill in the {}\n",
    "print(f'Model accuracy when original dataset was used... : {result_origin}')\n",
    "print(f'Model accuracy when scaling  dataset was used... : {result_scaled}')"
   ]
  },
  {
   "cell_type": "code",
   "execution_count": 17,
   "metadata": {},
   "outputs": [],
   "source": [
    "# Get results of 'cal_sensitivity'\n",
    "sensitivity_origin = cal_sensitivity(TP_origin,FP_origin,TN_origin,FN_origin)\n",
    "sensitivity_scaled = cal_sensitivity(TP_scaled,FP_scaled,TN_scaled,FN_scaled)"
   ]
  },
  {
   "cell_type": "code",
   "execution_count": 18,
   "metadata": {},
   "outputs": [
    {
     "name": "stdout",
     "output_type": "stream",
     "text": [
      "Model sensitivity when original dataset was used... : 0.9629629629629629\n",
      "Model sensitivity when scaling  dataset was used... : 0.9629629629629629\n"
     ]
    }
   ],
   "source": [
    "# Should fill in the {}\n",
    "print(f'Model sensitivity when original dataset was used... : {sensitivity_origin}')\n",
    "print(f'Model sensitivity when scaling  dataset was used... : {sensitivity_scaled}')"
   ]
  },
  {
   "cell_type": "code",
   "execution_count": 19,
   "metadata": {},
   "outputs": [],
   "source": [
    "# Get results of 'cal_specificity'\n",
    "specificity_origin = cal_specificity(TP_origin,FP_origin,TN_origin,FN_origin)\n",
    "specificity_scaled = cal_specificity(TP_scaled,FP_scaled,TN_scaled,FN_scaled)"
   ]
  },
  {
   "cell_type": "code",
   "execution_count": 20,
   "metadata": {},
   "outputs": [
    {
     "name": "stdout",
     "output_type": "stream",
     "text": [
      "Model specificity when original dataset was used... : 0.9523809523809523\n",
      "Model specificity when scaling  dataset was used... : 0.9523809523809523\n"
     ]
    }
   ],
   "source": [
    "# Should fill in the {}\n",
    "print(f'Model specificity when original dataset was used... : {specificity_origin}')\n",
    "print(f'Model specificity when scaling  dataset was used... : {specificity_scaled}')"
   ]
  },
  {
   "cell_type": "markdown",
   "metadata": {},
   "source": [
    "## Task 2. Feature Importance Prediction [10 points]\n",
    "- The corresponding task also should be performed for each of the two previously trained models\n",
    "- For this task, you should use the 'feature_importances_' function of RandomForestClassifier\n",
    "- Find the top 20 variables with high variable importance and plot them"
   ]
  },
  {
   "cell_type": "code",
   "execution_count": 21,
   "metadata": {},
   "outputs": [
    {
     "data": {
      "image/png": "[encoded data removed]",
      "text/plain": [
       "<Figure size 1080x720 with 1 Axes>"
      ]
     },
     "metadata": {
      "needs_background": "light"
     },
     "output_type": "display_data"
    }
   ],
   "source": [
    "# For Unscaled Data\n",
    "feature_importance_origin = pd.Series(model_origin.feature_importances_, index = X_train.columns).sort_values(ascending=False)[0:20]\n",
    "plt.figure(figsize = (15,10))\n",
    "sns.barplot(x = feature_importance_origin, y = feature_importance_origin.index)\n",
    "plt.title(\"Feature Importances Top 20\")\n",
    "plt.show()"
   ]
  },
  {
   "cell_type": "code",
   "execution_count": 22,
   "metadata": {},
   "outputs": [
    {
     "data": {
      "image/png": "[encoded data removed]",
      "text/plain": [
       "<Figure size 1080x720 with 1 Axes>"
      ]
     },
     "metadata": {
      "needs_background": "light"
     },
     "output_type": "display_data"
    }
   ],
   "source": [
    "# For Scaled Data\n",
    "feature_importance_scaled = pd.Series(model_scaled.feature_importances_, index=X_train.columns).sort_values(ascending=False)[0:20]\n",
    "plt.figure(figsize=(15,10))\n",
    "sns.barplot(x = feature_importance_scaled, y = feature_importance_scaled.index)\n",
    "plt.title(\"Feature Importances Top 20\")\n",
    "plt.show()"
   ]
  }
 ],
 "metadata": {
  "kernelspec": {
   "display_name": "Python 3",
   "language": "python",
   "name": "python3"
  },
  "language_info": {
   "codemirror_mode": {
    "name": "ipython",
    "version": 3
   },
   "file_extension": ".py",
   "mimetype": "text/x-python",
   "name": "python",
   "nbconvert_exporter": "python",
   "pygments_lexer": "ipython3",
   "version": "3.8.8"
  }
 },
 "nbformat": 4,
 "nbformat_minor": 4
}
