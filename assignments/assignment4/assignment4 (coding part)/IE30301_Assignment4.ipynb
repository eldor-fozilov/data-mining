{
 "cells": [
  {
   "cell_type": "markdown",
   "metadata": {},
   "source": [
    "# IE30301 DataMining  Programming HW4"
   ]
  },
  {
   "cell_type": "markdown",
   "metadata": {},
   "source": [
    "### Type your name and student ID here. Do not share this Jupyter Script online! "
   ]
  },
  {
   "cell_type": "markdown",
   "metadata": {},
   "source": [
    "### Student ID: \n",
    "### Student name: "
   ]
  },
  {
   "cell_type": "markdown",
   "metadata": {},
   "source": [
    "### Import Packages\n",
    "- It is not allowed for you to use packages other than specific packages below\n",
    "- It is not nessasary to use all the packages below "
   ]
  },
  {
   "cell_type": "code",
   "execution_count": 3,
   "metadata": {},
   "outputs": [],
   "source": [
    "import numpy as np\n",
    "import pandas as pd \n",
    "import matplotlib.pyplot as plt\n",
    "from sklearn.ensemble import RandomForestClassifier\n",
    "from sklearn.model_selection import train_test_split\n",
    "from sklearn.preprocessing import StandardScaler\n",
    "\n",
    "import matplotlib.pyplot as plt\n",
    "import seaborn as sns"
   ]
  },
  {
   "cell_type": "code",
   "execution_count": 4,
   "metadata": {},
   "outputs": [],
   "source": [
    "import warnings\n",
    "warnings.filterwarnings(action='ignore')"
   ]
  },
  {
   "cell_type": "markdown",
   "metadata": {},
   "source": [
    "## Task 1. Random Forest Training and evaluation [20 points]"
   ]
  },
  {
   "cell_type": "markdown",
   "metadata": {},
   "source": [
    "#### 1.1 Load Dataset [1 points]\n",
    "- Load the csv file,'breast_cancer.csv'\n",
    "- Assign `X` to the independent variable dataset\n",
    "- Assign `y` to the target variable dataset"
   ]
  },
  {
   "cell_type": "code",
   "execution_count": null,
   "metadata": {},
   "outputs": [],
   "source": []
  },
  {
   "cell_type": "markdown",
   "metadata": {},
   "source": [
    "#### 1.2 Split Dataset into the train & test set [1 points]\n",
    "** When you use scikit-learn method to split the train & test set : \n",
    "- The `random_state` value has to be zero\n",
    "- The ratio of train set and test set is as follows : 70% train set / 30% test set\n",
    "- Assign the variable names as follow : `X_train`, `X_test`, `y_train`, `y_test`"
   ]
  },
  {
   "cell_type": "code",
   "execution_count": null,
   "metadata": {},
   "outputs": [],
   "source": []
  },
  {
   "cell_type": "markdown",
   "metadata": {},
   "source": [
    "#### 1.3 Preprocess the data (use standard scaling) [2 points]\n",
    "- Use the method as the default state\n"
   ]
  },
  {
   "cell_type": "code",
   "execution_count": null,
   "metadata": {},
   "outputs": [],
   "source": []
  },
  {
   "cell_type": "markdown",
   "metadata": {},
   "source": [
    "#### 1.4 Load and train a random forest model by scikit-learn [4 points]\n",
    "- The `random_state` value has to be zero\n",
    "- Train the model as the default state\n",
    "- You should complete the training on both the unscaled original data and the scaled data (Use two different model names: model_origin, model_scaled)"
   ]
  },
  {
   "cell_type": "code",
   "execution_count": 5,
   "metadata": {},
   "outputs": [],
   "source": [
    "# First model trained with original datasets (without any scaling) "
   ]
  },
  {
   "cell_type": "code",
   "execution_count": 6,
   "metadata": {},
   "outputs": [],
   "source": [
    "# Second model trained with scaled datasets (with standard scaling) "
   ]
  },
  {
   "cell_type": "markdown",
   "metadata": {},
   "source": [
    "#### 1.5 Predict and evaluate the model [12 points]\n",
    "- Make predictions and evaluations for the two models(model_origin, model_scaled) that have been trained in 1.4, respectively.\n",
    "- Print the predicted labels of test set and assign it to two different variables (y_pred_origin, y_pred_scaled)\n",
    "- Complete the four evaluation functions below, and evaluate the model performance through them"
   ]
  },
  {
   "cell_type": "code",
   "execution_count": 7,
   "metadata": {},
   "outputs": [],
   "source": [
    "def cal_confusion(y_true, y_pred):\n",
    "    \n",
    "    \"\"\"\n",
    "    Calculate the confusion matrix from the predicted target value and the actual target value.\n",
    "    \n",
    "    Inputs\n",
    "    ------\n",
    "    y_true: actual target value\n",
    "    y_pred: predicted target value\n",
    "\n",
    "    Outputs\n",
    "    -------\n",
    "    confusion matrix components: TP, FP, TN, FN\n",
    "\n",
    "    \"\"\"\n",
    "    # TODO: Compute the compusion matrix\n",
    "\n",
    "    return TP, FP, TN, FN"
   ]
  },
  {
   "cell_type": "code",
   "execution_count": 8,
   "metadata": {},
   "outputs": [],
   "source": [
    "def cal_accuracy(y_true, y_pred):\n",
    "    \n",
    "    \"\"\"\n",
    "    Calculate the accuracy rate from the predicted target value and the actual target value.\n",
    "    \n",
    "    Inputs\n",
    "    ------\n",
    "    y_true: actual target value\n",
    "    y_pred: predicted target value\n",
    "\n",
    "    Outputs\n",
    "    -------\n",
    "    calculataed accuracy rate\n",
    "\n",
    "    \"\"\"\n",
    "    # TODO: Compute the accuracy rate\n",
    "   \n",
    "    return accuracy"
   ]
  },
  {
   "cell_type": "code",
   "execution_count": 9,
   "metadata": {},
   "outputs": [],
   "source": [
    "def cal_sensitivity(TP,FP,TN,FN):\n",
    "    \n",
    "    \"\"\"\n",
    "    Calculate the sensitivity using the TP, FP, TN, and FN information obtained through the confusion matrix.    \n",
    "    \n",
    "    Inputs\n",
    "    ------\n",
    "    TP,FP,TN,FN\n",
    "\n",
    "    Outputs\n",
    "    -------\n",
    "    calculated sensitivity rate\n",
    "\n",
    "    \"\"\"\n",
    "    # TODO: Compute the sensitivity rate\n",
    "    \n",
    "    return sensitivity"
   ]
  },
  {
   "cell_type": "code",
   "execution_count": 10,
   "metadata": {},
   "outputs": [],
   "source": [
    "def cal_specificity(TP,FP,TN,FN):\n",
    "    \n",
    "    \"\"\"\n",
    "    Calculate the sensitivity using the TP, FP, TN, and FN information obtained through the confusion matrix.    \n",
    "    \n",
    "    Inputs\n",
    "    ------\n",
    "    TP,FP,TN,FN\n",
    "\n",
    "    Outputs\n",
    "    -------\n",
    "    calculated specificity rate\n",
    "\n",
    "    \"\"\"\n",
    "    # TODO: Compute the specificity rate\n",
    "    return specificity"
   ]
  },
  {
   "cell_type": "code",
   "execution_count": 11,
   "metadata": {},
   "outputs": [],
   "source": [
    "# y_pred_origin, y_pred_scaled "
   ]
  },
  {
   "cell_type": "code",
   "execution_count": 12,
   "metadata": {},
   "outputs": [],
   "source": [
    "# Get results of 'cal_confusion'"
   ]
  },
  {
   "cell_type": "code",
   "execution_count": 13,
   "metadata": {},
   "outputs": [],
   "source": [
    "# Should fill in the {}\n",
    "# print(f'TP, FP, TN , FN when original dataset was used... : {}, {}, {}, {}')\n",
    "# print(f'TP, FP, TN , FN when scaling dataset was used... : {}, {}, {}, {}')"
   ]
  },
  {
   "cell_type": "code",
   "execution_count": 20,
   "metadata": {},
   "outputs": [],
   "source": [
    "# Get results of 'cal_accuracy'"
   ]
  },
  {
   "cell_type": "code",
   "execution_count": 21,
   "metadata": {},
   "outputs": [],
   "source": [
    "# Should fill in the {}\n",
    "# print(f'Model accuracy when original dataset was used... : {}')\n",
    "# print(f'Model accuracy when scaling  dataset was used... : {}')"
   ]
  },
  {
   "cell_type": "code",
   "execution_count": 22,
   "metadata": {},
   "outputs": [],
   "source": [
    "# Get results of 'cal_sensitivity'"
   ]
  },
  {
   "cell_type": "code",
   "execution_count": 23,
   "metadata": {},
   "outputs": [],
   "source": [
    "# Should fill in the {}\n",
    "# print(f'Model sensitivity when original dataset was used... : {}')\n",
    "# print(f'Model sensitivity when scaling  dataset was used... : {}')"
   ]
  },
  {
   "cell_type": "code",
   "execution_count": 24,
   "metadata": {},
   "outputs": [],
   "source": [
    "# Get results of 'cal_specificity'"
   ]
  },
  {
   "cell_type": "code",
   "execution_count": 25,
   "metadata": {},
   "outputs": [],
   "source": [
    "# Should fill in the {}\n",
    "# print(f'Model specificity when original dataset was used... : {specificity1}')\n",
    "# print(f'Model specificity when scaling  dataset was used... : {specificity2}')"
   ]
  },
  {
   "cell_type": "markdown",
   "metadata": {},
   "source": [
    "## Task 2. Feature Importance Prediction [10 points]\n",
    "- The corresponding task also shoul be performed for each of the two previously trained models\n",
    "- For this task, you should use the 'feature_importances_' function of RandomForestClassifier\n",
    "- Find the top 20 variables with high variable importance and plot them"
   ]
  },
  {
   "cell_type": "code",
   "execution_count": null,
   "metadata": {},
   "outputs": [],
   "source": []
  }
 ],
 "metadata": {
  "kernelspec": {
   "display_name": "Python 3",
   "language": "python",
   "name": "python3"
  },
  "language_info": {
   "codemirror_mode": {
    "name": "ipython",
    "version": 3
   },
   "file_extension": ".py",
   "mimetype": "text/x-python",
   "name": "python",
   "nbconvert_exporter": "python",
   "pygments_lexer": "ipython3",
   "version": "3.7.3"
  }
 },
 "nbformat": 4,
 "nbformat_minor": 4
}
