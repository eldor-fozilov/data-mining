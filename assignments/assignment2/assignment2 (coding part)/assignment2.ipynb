{
 "cells": [
  {
   "cell_type": "markdown",
   "metadata": {
    "id": "IrWwDqLkGDgP"
   },
   "source": [
    "# IE30301 DataMining  Programming HW1"
   ]
  },
  {
   "cell_type": "markdown",
   "metadata": {
    "id": "yN5ZlSU7GDgR"
   },
   "source": [
    "### Author: Eldor Fozilov"
   ]
  },
  {
   "cell_type": "markdown",
   "metadata": {
    "id": "lrxf6jv2GDgR"
   },
   "source": [
    "### * Import Packages\n",
    "- It is not allowed for you to use packages other than specific packages below\n",
    "- It is not nessasary to use all the packages below \n",
    "- For task 1.7, you need to use the package 'statsmodel.api'\n",
    "- Both packages('sklearn.linear_model' and 'statsmodels.api') can be used to load linear regression model"
   ]
  },
  {
   "cell_type": "code",
   "execution_count": 1,
   "metadata": {
    "id": "Tq6P3x7DGDgS"
   },
   "outputs": [],
   "source": [
    "import numpy as np\n",
    "import pandas as pd \n",
    "import matplotlib.pyplot as plt\n",
    "from sklearn import linear_model\n",
    "import statsmodels.api as sm \n",
    "from sklearn.model_selection import train_test_split\n",
    "from sklearn.preprocessing import StandardScaler"
   ]
  },
  {
   "cell_type": "code",
   "execution_count": 2,
   "metadata": {
    "id": "lyOVvAzfGDgS"
   },
   "outputs": [],
   "source": [
    "import warnings\n",
    "warnings.filterwarnings(action='ignore')"
   ]
  },
  {
   "cell_type": "markdown",
   "metadata": {
    "id": "PySIG8jFGDgT"
   },
   "source": [
    "## Task 1. Multiple linear regression [15 points]"
   ]
  },
  {
   "cell_type": "markdown",
   "metadata": {
    "id": "sVYN44DMGDgT"
   },
   "source": [
    "#### 1.1 Load Dataset [1 points]"
   ]
  },
  {
   "cell_type": "code",
   "execution_count": 3,
   "metadata": {
    "id": "X50gjpuoGDgT"
   },
   "outputs": [],
   "source": [
    "data = pd.read_csv(\"data/diabetes.csv\")"
   ]
  },
  {
   "cell_type": "markdown",
   "metadata": {
    "id": "IJOinOdTGDgT"
   },
   "source": [
    "#### 1.2 Split Dataset into the train & test set [1 points]\n",
    "- You have to use the specified random seed when dividing the dataset using the package 'train_test_split'\n",
    "- The specified random seed value is 0\n",
    "- The ratio of train set and test set is as follows: 70% train set / 30% test set"
   ]
  },
  {
   "cell_type": "code",
   "execution_count": 4,
   "metadata": {
    "id": "yW0-M_uZGDgT"
   },
   "outputs": [],
   "source": [
    "# Before splitting the dataset, we will separate the target variable from the independent variables\n",
    "y = data[\"target\"]\n",
    "X = data.drop(columns = \"target\")\n",
    "# Now we will split the data\n",
    "X_train, X_test, y_train, y_test = train_test_split(X,y,train_size = 0.7,test_size=0.3,random_state = 0)"
   ]
  },
  {
   "cell_type": "markdown",
   "metadata": {
    "id": "1Mei7RnvGDgU"
   },
   "source": [
    "#### 1.3 Preprocess the data (use standard scaling) [2 points]"
   ]
  },
  {
   "cell_type": "code",
   "execution_count": 5,
   "metadata": {
    "id": "eSTeV4dsGDgU"
   },
   "outputs": [],
   "source": [
    "scaler = StandardScaler()\n",
    "X_train_norm = scaler.fit_transform(X_train)\n",
    "X_test_norm = scaler.transform(X_test)"
   ]
  },
  {
   "cell_type": "markdown",
   "metadata": {
    "id": "gANRzWAaGDgU"
   },
   "source": [
    "#### 1.4 Load model and train the model [2 points]\n",
    "- Intercept term should be included for training"
   ]
  },
  {
   "cell_type": "code",
   "execution_count": 6,
   "metadata": {
    "id": "8DbsGc3iGDgU"
   },
   "outputs": [],
   "source": [
    "X_train_norm_new = sm.add_constant(X_train_norm)\n",
    "model = sm.OLS(y_train,X_train_norm_new)\n",
    "model = model.fit()"
   ]
  },
  {
   "cell_type": "markdown",
   "metadata": {
    "id": "Cu-VoCcoGDgU"
   },
   "source": [
    "#### 1.5 Predict and evaluate the model [4 points]\n",
    "\n",
    "- Predict target y using the trained model\n",
    "- Evaluate the trained model using the two metrics (*it is not allowed to use packages for this task)\n",
    "    1. mean squared error(MSE)\n",
    "    2. R2 score\n",
    "- Calculated scores should be placed in the specified cell"
   ]
  },
  {
   "cell_type": "code",
   "execution_count": 7,
   "metadata": {
    "id": "aSUE71eNGDgU"
   },
   "outputs": [],
   "source": [
    "# prediction step \n",
    "X_test_norm_new = sm.add_constant(X_test_norm)\n",
    "y_hat = model.predict(X_test_norm_new)"
   ]
  },
  {
   "cell_type": "code",
   "execution_count": 8,
   "metadata": {
    "id": "zCDZUgIlGDgV"
   },
   "outputs": [],
   "source": [
    "# calculate MSE using calculation code\n",
    "errors = y_test-y_hat\n",
    "N = X_test.shape[0]\n",
    "MSE = np.dot(errors,errors) / N"
   ]
  },
  {
   "cell_type": "code",
   "execution_count": 9,
   "metadata": {
    "id": "JnhuQoEOGDgV"
   },
   "outputs": [
    {
     "data": {
      "text/plain": [
       "3097.1461383877977"
      ]
     },
     "execution_count": 9,
     "metadata": {},
     "output_type": "execute_result"
    }
   ],
   "source": [
    "# write calculated MSE value here in markdown mode\n",
    "MSE"
   ]
  },
  {
   "cell_type": "markdown",
   "metadata": {
    "id": "kf4HqWPfGDgV"
   },
   "source": [
    "#### Calculated MSE is 3097.1461383877977"
   ]
  },
  {
   "cell_type": "code",
   "execution_count": 10,
   "metadata": {
    "id": "Gudi4QhdGDgV"
   },
   "outputs": [],
   "source": [
    "# calculate R2 using calculation code\n",
    "errors = y_test-y_hat\n",
    "SSE = np.dot(errors,errors)\n",
    "y_mean = np.mean(y_test)\n",
    "SST = np.dot(y_test-y_mean, y_test-y_mean)\n",
    "R_square = 1-(SSE/SST)"
   ]
  },
  {
   "cell_type": "code",
   "execution_count": 11,
   "metadata": {
    "id": "aCtNF-sVGDgW"
   },
   "outputs": [
    {
     "data": {
      "text/plain": [
       "0.3928939845074757"
      ]
     },
     "execution_count": 11,
     "metadata": {},
     "output_type": "execute_result"
    }
   ],
   "source": [
    "# write calculated R2 score here in markdown mode\n",
    "R_square"
   ]
  },
  {
   "cell_type": "markdown",
   "metadata": {
    "id": "Uo96aO4kGDgW"
   },
   "source": [
    "#### Calculated R2 score is 0.3928939845074757"
   ]
  },
  {
   "cell_type": "markdown",
   "metadata": {
    "id": "CKNi8xT9GDgW"
   },
   "source": [
    "#### 1.6 Describe the whole formula of the trained model [1 points]"
   ]
  },
  {
   "cell_type": "code",
   "execution_count": 12,
   "metadata": {
    "id": "wdLEDqlGGDgW"
   },
   "outputs": [
    {
     "name": "stdout",
     "output_type": "stream",
     "text": [
      "const    152.119741\n",
      "age       -2.534069\n",
      "sex       -9.214721\n",
      "bmi       27.982947\n",
      "bp        12.988312\n",
      "s1       -23.912969\n",
      "s2        11.501656\n",
      "s3        -3.362391\n",
      "s4         4.236574\n",
      "s5        35.443348\n",
      "s6         1.366687\n",
      "dtype: float64\n"
     ]
    }
   ],
   "source": [
    "# get coefficients for the whole formula\n",
    "variables = [\"const\", *data.columns[0:-1]]\n",
    "parameters = model.params\n",
    "parameters.index = variables\n",
    "print(parameters)"
   ]
  },
  {
   "cell_type": "code",
   "execution_count": 13,
   "metadata": {
    "id": "tsvimKzmGDgW"
   },
   "outputs": [],
   "source": [
    "# write down the whole formula"
   ]
  },
  {
   "cell_type": "markdown",
   "metadata": {
    "id": "QTeb0TokGDgW"
   },
   "source": [
    "#### Whole formula is \n",
    "$$ \\hat{y} = 152.119741 - 2.534069\\,\\textit{age} - 9.214721\\,\\textit{sex} + 27.982947\\,\\textit{bmi} + 12.988312\\,\\textit{bp} - 23.912969\\,\\textit{s2} + 11.501656\\,\\textit{s1} - 3.362391\\,\\textit{s3} + 4.236574\\,\\textit{s4} + 35.443348\\,\\textit{s5} + 1.366687\\,\\textit{s6}$$"
   ]
  },
  {
   "cell_type": "markdown",
   "metadata": {
    "id": "Zl_EmKuRGDgX"
   },
   "source": [
    "#### 1.7 Check the p-value and find out significant variables [4 points]\n",
    "- Print p-value of each variable \n",
    "- List all variables judged to be significant based on the p-value 0.05 "
   ]
  },
  {
   "cell_type": "code",
   "execution_count": 14,
   "metadata": {
    "id": "6yzdflUoGDgX"
   },
   "outputs": [
    {
     "name": "stdout",
     "output_type": "stream",
     "text": [
      "const    5.224475e-146\n",
      "age       4.621128e-01\n",
      "sex       7.598006e-03\n",
      "bmi       3.094248e-12\n",
      "bp        8.941189e-04\n",
      "s1        2.998056e-01\n",
      "s2        5.345449e-01\n",
      "s3        7.837443e-01\n",
      "s4        6.539856e-01\n",
      "s5        2.935403e-04\n",
      "s6        7.251985e-01\n",
      "dtype: float64\n"
     ]
    }
   ],
   "source": [
    "# get p-value of each variable\n",
    "pvalues = model.pvalues\n",
    "variables = [\"const\", *data.columns[0:-1]]\n",
    "pvalues.index = variables\n",
    "print(pvalues)"
   ]
  },
  {
   "cell_type": "code",
   "execution_count": 15,
   "metadata": {
    "id": "dReFHMDxGDgX"
   },
   "outputs": [
    {
     "data": {
      "text/plain": [
       "const    5.224475e-146\n",
       "sex       7.598006e-03\n",
       "bmi       3.094248e-12\n",
       "bp        8.941189e-04\n",
       "s5        2.935403e-04\n",
       "dtype: float64"
      ]
     },
     "execution_count": 15,
     "metadata": {},
     "output_type": "execute_result"
    }
   ],
   "source": [
    "# write significant variables list\n",
    "pvalues[pvalues<0.05]"
   ]
  },
  {
   "cell_type": "markdown",
   "metadata": {
    "id": "PK7fJ0fhGDgX"
   },
   "source": [
    "#### Significant variabels list : [sex, bmi, bp, s5]"
   ]
  },
  {
   "cell_type": "markdown",
   "metadata": {
    "id": "NTurd9JeGDgX"
   },
   "source": [
    "## Task 2. Simple linear regression [15 points]"
   ]
  },
  {
   "cell_type": "markdown",
   "metadata": {
    "id": "G3J5eMbFGDgX"
   },
   "source": [
    "#### 2.1 Select one feature using information of p-value [1 points]\n",
    "- Select one of the variables judged to be significant in task 1.7 and mention the variable name you choose\n",
    "- Remake a dataset only including the variable you choose"
   ]
  },
  {
   "cell_type": "markdown",
   "metadata": {
    "id": "qtHDR4t4GDgY"
   },
   "source": [
    "#### Selected variable : bmi"
   ]
  },
  {
   "cell_type": "markdown",
   "metadata": {
    "id": "0FyjOlv5GDgY"
   },
   "source": [
    "#### 2.2 Split Dataset into the train & test set [1 points]\n",
    "- To perform this task, you need to use the reconstructed dataset in task 2.1\n",
    "- You have to use the specified random seed when dividing the dataset using the package 'train_test_split'\n",
    "- The specified random seed value is 0\n",
    "- The ratio of train set and test set is as follows: 70% train set / 30% test set"
   ]
  },
  {
   "cell_type": "code",
   "execution_count": 16,
   "metadata": {
    "id": "mjtdARiWGDgY"
   },
   "outputs": [],
   "source": [
    "X_single = pd.DataFrame(data['bmi'])\n",
    "X_train_single, X_test_single, y_train_single, y_test_single = \\\n",
    "train_test_split(X_single,y,train_size = 0.7,test_size=0.3,random_state = 0)"
   ]
  },
  {
   "cell_type": "markdown",
   "metadata": {
    "id": "0E8xfBgRGDgY"
   },
   "source": [
    "#### 2.3 Preprocess the data (use standard scaling) [2 points]"
   ]
  },
  {
   "cell_type": "code",
   "execution_count": 17,
   "metadata": {
    "id": "0awYstj6GDgY"
   },
   "outputs": [],
   "source": [
    "scaler = StandardScaler()\n",
    "X_train_single_norm = scaler.fit_transform(X_train_single)\n",
    "X_test_single_norm = scaler.transform(X_test_single)"
   ]
  },
  {
   "cell_type": "markdown",
   "metadata": {
    "id": "yBS5ippUGDgY"
   },
   "source": [
    "#### 2.4 Load model and train the model [2 points]\n",
    "- Intercept term should be included for training"
   ]
  },
  {
   "cell_type": "code",
   "execution_count": 18,
   "metadata": {
    "id": "QwWl50XIGDgZ"
   },
   "outputs": [],
   "source": [
    "X_train_single_norm_new = sm.add_constant(X_train_single_norm)\n",
    "model_single = sm.OLS(y_train_single, X_train_single_norm_new)\n",
    "model_single = model_single.fit()"
   ]
  },
  {
   "cell_type": "markdown",
   "metadata": {
    "id": "FdX3qzT7GDgZ"
   },
   "source": [
    "#### 2.5 Predict and evaluate the results [4 points]\n",
    "\n",
    "- Predict target y using the trained model\n",
    "- Evaluate the trained model using the two metrics (*it is not allowed to use packages for this task)\n",
    "    1. mean squared error(MSE)\n",
    "    2. R2 score\n",
    "- Calculated scores should be placed in the specified cell"
   ]
  },
  {
   "cell_type": "code",
   "execution_count": 19,
   "metadata": {
    "id": "dFebst8jGDgZ"
   },
   "outputs": [],
   "source": [
    "# predict \n",
    "X_test_single_norm_new = sm.add_constant(X_test_single_norm)\n",
    "y_hat_single = model_single.predict(X_test_single_norm_new)"
   ]
  },
  {
   "cell_type": "code",
   "execution_count": 20,
   "metadata": {
    "id": "iG4usMHJGDgZ"
   },
   "outputs": [],
   "source": [
    "# calculate MSE using calculation code\n",
    "errors = y_test_single-y_hat_single\n",
    "N = X_test_single.shape[0]\n",
    "MSE = np.dot(errors,errors) / N"
   ]
  },
  {
   "cell_type": "code",
   "execution_count": 21,
   "metadata": {
    "id": "8uR2S3adGDgZ"
   },
   "outputs": [
    {
     "name": "stdout",
     "output_type": "stream",
     "text": [
      "3921.372027424852\n"
     ]
    }
   ],
   "source": [
    "# write calculated MSE value here in markdown mode\n",
    "print(MSE)"
   ]
  },
  {
   "cell_type": "markdown",
   "metadata": {
    "id": "0BeZhnpwGDgZ"
   },
   "source": [
    "#### Calculated MSE is 3921.372027424852"
   ]
  },
  {
   "cell_type": "code",
   "execution_count": 22,
   "metadata": {
    "id": "ZnchtiJwGDgZ"
   },
   "outputs": [],
   "source": [
    "# calculate R2 using calculation code\n",
    "errors = y_test_single-y_hat_single\n",
    "SSE = np.dot(errors,errors)\n",
    "y_mean_single = np.mean(y_test_single)\n",
    "SST = np.dot(y_test_single - y_mean_single, y_test_single - y_mean_single)\n",
    "R_square = 1-(SSE/SST)"
   ]
  },
  {
   "cell_type": "code",
   "execution_count": 23,
   "metadata": {
    "id": "cyyuY_BxGDga"
   },
   "outputs": [
    {
     "data": {
      "text/plain": [
       "0.23132831307953794"
      ]
     },
     "execution_count": 23,
     "metadata": {},
     "output_type": "execute_result"
    }
   ],
   "source": [
    "# write calculated R2 score here in markdown mode\n",
    "R_square"
   ]
  },
  {
   "cell_type": "markdown",
   "metadata": {
    "id": "Ycy8tThtGDga"
   },
   "source": [
    "#### Calculated R2 score is 0.23132831307953794"
   ]
  },
  {
   "cell_type": "markdown",
   "metadata": {
    "id": "eD1D6DTsGDga"
   },
   "source": [
    "#### 2.6 Describe the whole formula of the trained model [1 points]"
   ]
  },
  {
   "cell_type": "code",
   "execution_count": 24,
   "metadata": {
    "id": "ELtvSObNGDga"
   },
   "outputs": [
    {
     "name": "stdout",
     "output_type": "stream",
     "text": [
      "const    152.119741\n",
      "x1        48.925670\n",
      "dtype: float64\n"
     ]
    }
   ],
   "source": [
    "# get coefficients for the whole formula\n",
    "print(model_single.params)"
   ]
  },
  {
   "cell_type": "code",
   "execution_count": 25,
   "metadata": {
    "id": "-orIUdXQGDga"
   },
   "outputs": [],
   "source": [
    "# write down the whole formula"
   ]
  },
  {
   "cell_type": "markdown",
   "metadata": {
    "id": "qgKbDMOIGDga"
   },
   "source": [
    "#### Whole formula is \n",
    "$$ \\hat{y} = 152.119741 + 48.92567\\,\\textit{bmi} $$"
   ]
  },
  {
   "cell_type": "markdown",
   "metadata": {
    "id": "dQKTX1jRGDga"
   },
   "source": [
    "#### 2.7 Plot graph [4 points]\n",
    "- Plot data points of test set and draw the line you get from the trained model "
   ]
  },
  {
   "cell_type": "code",
   "execution_count": 26,
   "metadata": {
    "id": "MPLeHOUjGDga"
   },
   "outputs": [
    {
     "data": {
      "image/png": "[encoded data removed]",
      "text/plain": [
       "<Figure size 432x288 with 1 Axes>"
      ]
     },
     "metadata": {
      "needs_background": "light"
     },
     "output_type": "display_data"
    }
   ],
   "source": [
    "plt.scatter(X_test_single, y_test_single)\n",
    "plt.plot(X_test_single, y_hat_single, 'r')\n",
    "plt.title('Diabetes: linear model')\n",
    "plt.xlabel('BMI')\n",
    "plt.ylabel('y (target)')\n",
    "\n",
    "plt.show()\n"
   ]
  }
 ],
 "metadata": {
  "colab": {
   "name": "IE30301_Assignment2_Skeleton.ipynb",
   "provenance": []
  },
  "kernelspec": {
   "display_name": "Python 3",
   "language": "python",
   "name": "python3"
  },
  "language_info": {
   "codemirror_mode": {
    "name": "ipython",
    "version": 3
   },
   "file_extension": ".py",
   "mimetype": "text/x-python",
   "name": "python",
   "nbconvert_exporter": "python",
   "pygments_lexer": "ipython3",
   "version": "3.8.8"
  }
 },
 "nbformat": 4,
 "nbformat_minor": 1
}
