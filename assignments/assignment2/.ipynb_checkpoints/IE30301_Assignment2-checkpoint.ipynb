{
 "cells": [
  {
   "cell_type": "markdown",
   "metadata": {
    "id": "IrWwDqLkGDgP"
   },
   "source": [
    "# IE30301 DataMining  Programming HW1"
   ]
  },
  {
   "cell_type": "markdown",
   "metadata": {
    "id": "i2AXWKLCGDgQ"
   },
   "source": [
    "### Type your name and student ID here. Do not share this Jupyter Script online! "
   ]
  },
  {
   "cell_type": "markdown",
   "metadata": {
    "id": "yN5ZlSU7GDgR"
   },
   "source": [
    "### Student ID: \n",
    "### Student name: "
   ]
  },
  {
   "cell_type": "markdown",
   "metadata": {
    "id": "lrxf6jv2GDgR"
   },
   "source": [
    "### * Import Packages\n",
    "- It is not allowed for you to use packages other than specific packages below\n",
    "- It is not nessasary to use all the packages below \n",
    "- For task 1.7, you need to use the package 'statsmodel.api'\n",
    "- Both packages('sklearn.linear_model' and 'statsmodels.api') can be used to load linear regression model"
   ]
  },
  {
   "cell_type": "code",
   "execution_count": null,
   "metadata": {
    "id": "Tq6P3x7DGDgS"
   },
   "outputs": [],
   "source": [
    "import numpy as np\n",
    "import pandas as pd \n",
    "import matplotlib.pyplot as plt\n",
    "from sklearn import linear_model\n",
    "import statsmodels.api as sm \n",
    "from sklearn.model_selection import train_test_split\n",
    "from sklearn.preprocessing import StandardScaler"
   ]
  },
  {
   "cell_type": "code",
   "execution_count": null,
   "metadata": {
    "id": "lyOVvAzfGDgS"
   },
   "outputs": [],
   "source": [
    "import warnings\n",
    "warnings.filterwarnings(action='ignore')"
   ]
  },
  {
   "cell_type": "markdown",
   "metadata": {
    "id": "PySIG8jFGDgT"
   },
   "source": [
    "## Task 1. Multiple linear regression [15 points]"
   ]
  },
  {
   "cell_type": "markdown",
   "metadata": {
    "id": "sVYN44DMGDgT"
   },
   "source": [
    "#### 1.1 Load Dataset [1 points]"
   ]
  },
  {
   "cell_type": "code",
   "execution_count": null,
   "metadata": {
    "id": "X50gjpuoGDgT"
   },
   "outputs": [],
   "source": []
  },
  {
   "cell_type": "markdown",
   "metadata": {
    "id": "IJOinOdTGDgT"
   },
   "source": [
    "#### 1.2 Split Dataset into the train & test set [1 points]\n",
    "- You have to use the specified random seed when dividing the dataset using the package 'train_test_split'\n",
    "- The specified random seed value is 0\n",
    "- The ratio of train set and test set is as follows: 70% train set / 30% test set"
   ]
  },
  {
   "cell_type": "code",
   "execution_count": null,
   "metadata": {
    "id": "yW0-M_uZGDgT"
   },
   "outputs": [],
   "source": []
  },
  {
   "cell_type": "markdown",
   "metadata": {
    "id": "1Mei7RnvGDgU"
   },
   "source": [
    "#### 1.3 Preprocess the data (use standard scaling) [2 points]"
   ]
  },
  {
   "cell_type": "code",
   "execution_count": null,
   "metadata": {
    "id": "eSTeV4dsGDgU"
   },
   "outputs": [],
   "source": []
  },
  {
   "cell_type": "markdown",
   "metadata": {
    "id": "gANRzWAaGDgU"
   },
   "source": [
    "#### 1.4 Load model and train the model [2 points]\n",
    "- Intercept term should be included for training"
   ]
  },
  {
   "cell_type": "code",
   "execution_count": null,
   "metadata": {
    "id": "8DbsGc3iGDgU"
   },
   "outputs": [],
   "source": []
  },
  {
   "cell_type": "markdown",
   "metadata": {
    "id": "Cu-VoCcoGDgU"
   },
   "source": [
    "#### 1.5 Predict and evaluate the model [4 points]\n",
    "\n",
    "- Predict target y using the trained model\n",
    "- Evaluate the trained model using the two metrics (*it is not allowed to use packages for this task)\n",
    "    1. mean squared error(MSE)\n",
    "    2. R2 score\n",
    "- Calculated scores should be placed in the specified cell"
   ]
  },
  {
   "cell_type": "code",
   "execution_count": null,
   "metadata": {
    "id": "aSUE71eNGDgU"
   },
   "outputs": [],
   "source": [
    "# prediction step"
   ]
  },
  {
   "cell_type": "code",
   "execution_count": null,
   "metadata": {
    "id": "zCDZUgIlGDgV"
   },
   "outputs": [],
   "source": [
    "# calculate MSE using calculation code"
   ]
  },
  {
   "cell_type": "code",
   "execution_count": null,
   "metadata": {
    "id": "JnhuQoEOGDgV"
   },
   "outputs": [],
   "source": [
    "# write calculated MSE value here in markdown mode"
   ]
  },
  {
   "cell_type": "markdown",
   "metadata": {
    "id": "kf4HqWPfGDgV"
   },
   "source": [
    "#### Calculated MSE is ..."
   ]
  },
  {
   "cell_type": "code",
   "execution_count": null,
   "metadata": {
    "id": "Gudi4QhdGDgV"
   },
   "outputs": [],
   "source": [
    "# calculate R2 using calculation code"
   ]
  },
  {
   "cell_type": "code",
   "execution_count": null,
   "metadata": {
    "id": "aCtNF-sVGDgW"
   },
   "outputs": [],
   "source": [
    "# write calculated R2 score here in markdown mode"
   ]
  },
  {
   "cell_type": "markdown",
   "metadata": {
    "id": "Uo96aO4kGDgW"
   },
   "source": [
    "#### Calculated R2 score is ..."
   ]
  },
  {
   "cell_type": "markdown",
   "metadata": {
    "id": "CKNi8xT9GDgW"
   },
   "source": [
    "#### 1.6 Describe the whole formula of the trained model [1 points]"
   ]
  },
  {
   "cell_type": "code",
   "execution_count": null,
   "metadata": {
    "id": "wdLEDqlGGDgW"
   },
   "outputs": [],
   "source": [
    "# get coefficients for the whole formula"
   ]
  },
  {
   "cell_type": "code",
   "execution_count": null,
   "metadata": {
    "id": "tsvimKzmGDgW"
   },
   "outputs": [],
   "source": [
    "# write down the whole formula"
   ]
  },
  {
   "cell_type": "markdown",
   "metadata": {
    "id": "QTeb0TokGDgW"
   },
   "source": [
    "#### Whole formula is ..."
   ]
  },
  {
   "cell_type": "markdown",
   "metadata": {
    "id": "Zl_EmKuRGDgX"
   },
   "source": [
    "#### 1.7 Check the p-value and find out significant variables [4 points]\n",
    "- Print p-value of each variable \n",
    "- List all variables judged to be significant based on the p-value 0.05 "
   ]
  },
  {
   "cell_type": "code",
   "execution_count": null,
   "metadata": {
    "id": "6yzdflUoGDgX"
   },
   "outputs": [],
   "source": [
    "# get p-value of each variable"
   ]
  },
  {
   "cell_type": "code",
   "execution_count": null,
   "metadata": {
    "id": "dReFHMDxGDgX"
   },
   "outputs": [],
   "source": [
    "# writhe significant variables list "
   ]
  },
  {
   "cell_type": "markdown",
   "metadata": {
    "id": "PK7fJ0fhGDgX"
   },
   "source": [
    "#### Significant variabels list :"
   ]
  },
  {
   "cell_type": "markdown",
   "metadata": {
    "id": "NTurd9JeGDgX"
   },
   "source": [
    "## Task 2. Simple linear regression [15 points]"
   ]
  },
  {
   "cell_type": "markdown",
   "metadata": {
    "id": "G3J5eMbFGDgX"
   },
   "source": [
    "#### 2.1 Select one feataure using information of p-value [1 points]\n",
    "- Select one of the variables judged to be significant in task 1.7 and mention the variable name you choose\n",
    "- Remake a dataset only including the variable you choose"
   ]
  },
  {
   "cell_type": "markdown",
   "metadata": {
    "id": "qtHDR4t4GDgY"
   },
   "source": [
    "#### Selected variable : "
   ]
  },
  {
   "cell_type": "markdown",
   "metadata": {
    "id": "0FyjOlv5GDgY"
   },
   "source": [
    "#### 2.2 Split Dataset into the train & test set [1 points]\n",
    "- To perform this task, you need to use the reconstructed dataset in task 2.1\n",
    "- You have to use the specified random seed when dividing the dataset using the package 'train_test_split'\n",
    "- The specified random seed value is 0\n",
    "- The ratio of train set and test set is as follows: 70% train set / 30% test set"
   ]
  },
  {
   "cell_type": "code",
   "execution_count": null,
   "metadata": {
    "id": "mjtdARiWGDgY"
   },
   "outputs": [],
   "source": []
  },
  {
   "cell_type": "markdown",
   "metadata": {
    "id": "0E8xfBgRGDgY"
   },
   "source": [
    "#### 2.3 Preprocess the data (use standard scaling) [2 points]"
   ]
  },
  {
   "cell_type": "code",
   "execution_count": null,
   "metadata": {
    "id": "0awYstj6GDgY"
   },
   "outputs": [],
   "source": []
  },
  {
   "cell_type": "markdown",
   "metadata": {
    "id": "yBS5ippUGDgY"
   },
   "source": [
    "#### 2.4 Load model and train the model [2 points]\n",
    "- Intercept term should be included for training"
   ]
  },
  {
   "cell_type": "code",
   "execution_count": null,
   "metadata": {
    "id": "QwWl50XIGDgZ"
   },
   "outputs": [],
   "source": []
  },
  {
   "cell_type": "markdown",
   "metadata": {
    "id": "FdX3qzT7GDgZ"
   },
   "source": [
    "#### 2.5 Predict and evaluate the results [4 points]\n",
    "\n",
    "- Predict target y using the trained model\n",
    "- Evaluate the trained model using the two metrics (*it is not allowed to use packages for this task)\n",
    "    1. mean squared error(MSE)\n",
    "    2. R2 score\n",
    "- Calculated scores should be placed in the specified cell"
   ]
  },
  {
   "cell_type": "code",
   "execution_count": null,
   "metadata": {
    "id": "dFebst8jGDgZ"
   },
   "outputs": [],
   "source": [
    "# predict "
   ]
  },
  {
   "cell_type": "code",
   "execution_count": null,
   "metadata": {
    "id": "iG4usMHJGDgZ"
   },
   "outputs": [],
   "source": [
    "# calculate MSE using calculation code"
   ]
  },
  {
   "cell_type": "code",
   "execution_count": null,
   "metadata": {
    "id": "8uR2S3adGDgZ"
   },
   "outputs": [],
   "source": [
    "# write calculated MSE value here in markdown mode"
   ]
  },
  {
   "cell_type": "markdown",
   "metadata": {
    "id": "0BeZhnpwGDgZ"
   },
   "source": [
    "#### Calculated MSE is ..."
   ]
  },
  {
   "cell_type": "code",
   "execution_count": null,
   "metadata": {
    "id": "ZnchtiJwGDgZ"
   },
   "outputs": [],
   "source": [
    "# calculate R2 using calculation code"
   ]
  },
  {
   "cell_type": "code",
   "execution_count": null,
   "metadata": {
    "id": "cyyuY_BxGDga"
   },
   "outputs": [],
   "source": [
    "# write calculated R2 score here in markdown mode"
   ]
  },
  {
   "cell_type": "markdown",
   "metadata": {
    "id": "Ycy8tThtGDga"
   },
   "source": [
    "#### Calculated R2 score is ..."
   ]
  },
  {
   "cell_type": "markdown",
   "metadata": {
    "id": "eD1D6DTsGDga"
   },
   "source": [
    "#### 2.6 Describe the whole formula of the trained model [1 points]"
   ]
  },
  {
   "cell_type": "code",
   "execution_count": null,
   "metadata": {
    "id": "ELtvSObNGDga"
   },
   "outputs": [],
   "source": [
    "# get coefficients for the whole formula"
   ]
  },
  {
   "cell_type": "code",
   "execution_count": null,
   "metadata": {
    "id": "-orIUdXQGDga"
   },
   "outputs": [],
   "source": [
    "# write down the whole formula"
   ]
  },
  {
   "cell_type": "markdown",
   "metadata": {
    "id": "qgKbDMOIGDga"
   },
   "source": [
    "#### Whole formula is ..."
   ]
  },
  {
   "cell_type": "markdown",
   "metadata": {
    "id": "dQKTX1jRGDga"
   },
   "source": [
    "#### 2.7 Plot graph [4 points]\n",
    "- Plot data points of test set and draw the line you get from the trained model "
   ]
  },
  {
   "cell_type": "code",
   "execution_count": null,
   "metadata": {
    "id": "MPLeHOUjGDga"
   },
   "outputs": [],
   "source": []
  }
 ],
 "metadata": {
  "colab": {
   "name": "IE30301_Assignment2_Skeleton.ipynb",
   "provenance": []
  },
  "kernelspec": {
   "display_name": "Python 3",
   "language": "python",
   "name": "python3"
  },
  "language_info": {
   "codemirror_mode": {
    "name": "ipython",
    "version": 3
   },
   "file_extension": ".py",
   "mimetype": "text/x-python",
   "name": "python",
   "nbconvert_exporter": "python",
   "pygments_lexer": "ipython3",
   "version": "3.8.8"
  }
 },
 "nbformat": 4,
 "nbformat_minor": 1
}
